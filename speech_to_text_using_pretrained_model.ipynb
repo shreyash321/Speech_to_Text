{
  "nbformat": 4,
  "nbformat_minor": 0,
  "metadata": {
    "colab": {
      "provenance": [],
      "authorship_tag": "ABX9TyPup/EU7d5gKIKbuxHqygLZ",
      "include_colab_link": true
    },
    "kernelspec": {
      "name": "python3",
      "display_name": "Python 3"
    },
    "language_info": {
      "name": "python"
    }
  },
  "cells": [
    {
      "cell_type": "markdown",
      "metadata": {
        "id": "view-in-github",
        "colab_type": "text"
      },
      "source": [
        "<a href=\"https://colab.research.google.com/github/shreyash321/Speech_to_Text/blob/main/speech_to_text_using_pretrained_model.ipynb\" target=\"_parent\"><img src=\"https://colab.research.google.com/assets/colab-badge.svg\" alt=\"Open In Colab\"/></a>"
      ]
    },
    {
      "cell_type": "markdown",
      "source": [
        "Text To Speech"
      ],
      "metadata": {
        "id": "lIA0UVktm9Bi"
      }
    },
    {
      "cell_type": "markdown",
      "source": [
        "![speechtotext.png](data:image/png;base64,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)"
      ],
      "metadata": {
        "id": "bfZO1vy-mQUZ"
      }
    },
    {
      "cell_type": "markdown",
      "source": [
        "Pretrained Model Used From Hugging Face ❤: -\n",
        "https://huggingface.co/jonatasgrosman/wav2vec2-large-xlsr-53-english "
      ],
      "metadata": {
        "id": "4S1RfibmnvNN"
      }
    },
    {
      "cell_type": "code",
      "source": [
        "pip install transformers"
      ],
      "metadata": {
        "id": "NEdxtYlymFo1"
      },
      "execution_count": null,
      "outputs": []
    },
    {
      "cell_type": "code",
      "source": [
        "import torch\n",
        "import time\n",
        "import librosa \n",
        "import numpy as np\n",
        "from transformers import Wav2Vec2ForCTC, Wav2Vec2Processor\n",
        "MODEL_ID = \"jonatasgrosman/wav2vec2-large-xlsr-53-english\"\n",
        "processor = Wav2Vec2Processor.from_pretrained(MODEL_ID)\n",
        "model = Wav2Vec2ForCTC.from_pretrained(MODEL_ID)\n",
        "#convert the audio file to a numpy array \n",
        "##\n",
        "speech_array, sampling_rate = librosa.load('/content/AUD-20220831-WA0003', sr=16_000) #insert your audio file here\n",
        "speech_array=speech_array.astype(np.double)\n",
        "inputs = processor(speech_array, sampling_rate=16_000, return_tensors=\"pt\", padding=True)\n",
        "time.sleep(10)\n",
        "with torch.no_grad():\n",
        "    logits = model(inputs.input_values, attention_mask=inputs.attention_mask).logits\n",
        "#prediction time\n",
        "##\n",
        "predicted_ids = torch.argmax(logits, dim=-1)\n",
        "predicted_sentences = processor.batch_decode(predicted_ids)\n",
        "print(predicted_sentences)"
      ],
      "metadata": {
        "colab": {
          "base_uri": "https://localhost:8080/"
        },
        "id": "kET6HOPyhKh-",
        "outputId": "70b8100d-e24e-40e8-89b3-ff6fb2981362"
      },
      "execution_count": 7,
      "outputs": [
        {
          "output_type": "stream",
          "name": "stderr",
          "text": [
            "/usr/local/lib/python3.7/dist-packages/librosa/core/audio.py:165: UserWarning: PySoundFile failed. Trying audioread instead.\n",
            "  warnings.warn(\"PySoundFile failed. Trying audioread instead.\")\n"
          ]
        },
        {
          "output_type": "stream",
          "name": "stdout",
          "text": [
            "['president trump has a meeting at washington at ten am']\n"
          ]
        }
      ]
    },
    {
      "cell_type": "code",
      "source": [
        "#extracting entities from a sentence using spacy\n",
        "import spacy\n",
        "from spacy import displacy\n",
        "NER = spacy.load(\"en_core_web_sm\")\n",
        "text1=NER(str(predicted_sentences))\n",
        "for word in text1.ents:\n",
        "    print(word.text,word.label_)\n",
        "displacy.render(text1,style=\"ent\",jupyter=True)"
      ],
      "metadata": {
        "colab": {
          "base_uri": "https://localhost:8080/",
          "height": 69
        },
        "id": "setOdeNyhWHE",
        "outputId": "57ad7dce-3a7e-4fd9-d9b2-bd8b39c4dc9d"
      },
      "execution_count": 9,
      "outputs": [
        {
          "output_type": "stream",
          "name": "stdout",
          "text": [
            "washington GPE\n"
          ]
        },
        {
          "output_type": "display_data",
          "data": {
            "text/plain": [
              "<IPython.core.display.HTML object>"
            ],
            "text/html": [
              "<span class=\"tex2jax_ignore\"><div class=\"entities\" style=\"line-height: 2.5; direction: ltr\">['president trump has a meeting at \n",
              "<mark class=\"entity\" style=\"background: #feca74; padding: 0.45em 0.6em; margin: 0 0.25em; line-height: 1; border-radius: 0.35em;\">\n",
              "    washington\n",
              "    <span style=\"font-size: 0.8em; font-weight: bold; line-height: 1; border-radius: 0.35em; vertical-align: middle; margin-left: 0.5rem\">GPE</span>\n",
              "</mark>\n",
              " at ten am']</div></span>"
            ]
          },
          "metadata": {}
        }
      ]
    },
    {
      "cell_type": "code",
      "source": [],
      "metadata": {
        "id": "06vgvlUnk9td"
      },
      "execution_count": null,
      "outputs": []
    }
  ]
}